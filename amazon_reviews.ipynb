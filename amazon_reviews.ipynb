{
  "nbformat": 4,
  "nbformat_minor": 0,
  "metadata": {
    "kernelspec": {
      "name": "python3",
      "display_name": "Python 3"
    },
    "language_info": {
      "codemirror_mode": {
        "name": "ipython",
        "version": 3
      },
      "file_extension": ".py",
      "mimetype": "text/x-python",
      "name": "python",
      "nbconvert_exporter": "python",
      "pygments_lexer": "ipython3",
      "version": "3.7.4"
    },
    "colab": {
      "name": "amazon reviews.ipynb",
      "provenance": [],
      "include_colab_link": true
    }
  },
  "cells": [
    {
      "cell_type": "markdown",
      "metadata": {
        "id": "view-in-github",
        "colab_type": "text"
      },
      "source": [
        "<a href=\"https://colab.research.google.com/github/anuragjain0610/Sentiment-Analysis-Amazon-Reviews/blob/master/amazon_reviews.ipynb\" target=\"_parent\"><img src=\"https://colab.research.google.com/assets/colab-badge.svg\" alt=\"Open In Colab\"/></a>"
      ]
    },
    {
      "cell_type": "code",
      "metadata": {
        "id": "CX-AYX_VtdbY",
        "colab_type": "code",
        "outputId": "82e60230-3346-4ced-fcb7-3f17f6d9f58a",
        "colab": {
          "base_uri": "https://localhost:8080/",
          "height": 119
        }
      },
      "source": [
        "import pandas as pd\n",
        "import json\n",
        "import numpy as np\n",
        "from tqdm import tqdm\n",
        "import gzip\n",
        "import string\n",
        "import wordcloud\n",
        "import matplotlib.pyplot as plt\n",
        "%matplotlib inline\n",
        "import seaborn as sns\n",
        "import itertools\n",
        "import calendar\n",
        "import pickle\n",
        "\n",
        "from collections import Counter\n",
        "from sklearn import svm\n",
        "from sklearn.pipeline import Pipeline, make_pipeline\n",
        "from sklearn.linear_model import LogisticRegression\n",
        "from sklearn.feature_extraction.text import CountVectorizer, TfidfVectorizer\n",
        "from sklearn.decomposition import NMF, LatentDirichletAllocation\n",
        "from sklearn.naive_bayes import MultinomialNB\n",
        "from sklearn.model_selection import train_test_split, cross_val_score\n",
        "from sklearn.model_selection import GridSearchCV\n",
        "from sklearn.metrics import accuracy_score, confusion_matrix, f1_score\n",
        "from sklearn.externals import joblib\n",
        "\n",
        "import nltk\n",
        "nltk.download('stopwords')\n",
        "nltk.download('punkt')\n",
        "nltk.download('wordnet')\n",
        "\n",
        "from nltk import word_tokenize\n",
        "from nltk.corpus import stopwords\n",
        "from nltk.stem.wordnet import WordNetLemmatizer"
      ],
      "execution_count": 0,
      "outputs": [
        {
          "output_type": "stream",
          "text": [
            "[nltk_data] Downloading package stopwords to /root/nltk_data...\n",
            "[nltk_data]   Package stopwords is already up-to-date!\n",
            "[nltk_data] Downloading package punkt to /root/nltk_data...\n",
            "[nltk_data]   Package punkt is already up-to-date!\n",
            "[nltk_data] Downloading package wordnet to /root/nltk_data...\n",
            "[nltk_data]   Package wordnet is already up-to-date!\n"
          ],
          "name": "stdout"
        }
      ]
    },
    {
      "cell_type": "code",
      "metadata": {
        "id": "9OtIzjk_tdbf",
        "colab_type": "code",
        "colab": {}
      },
      "source": [
        "def read_json(file):\n",
        "    data = []\n",
        "    with open(file) as f:\n",
        "        for l in tqdm(f):\n",
        "            data.append(json.loads(l.strip()))\n",
        "    return data \n",
        "\n",
        "def read_jsonzip(file):\n",
        "    data = []\n",
        "    with gzip.open(file) as f:\n",
        "        for l in tqdm(f):\n",
        "            data.append(json.loads(l.strip()))\n",
        "    return data      "
      ],
      "execution_count": 0,
      "outputs": []
    },
    {
      "cell_type": "code",
      "metadata": {
        "id": "soPPxCjMtdbi",
        "colab_type": "code",
        "outputId": "c340f34c-a4a4-4e88-8f65-2863faad2310",
        "colab": {
          "base_uri": "https://localhost:8080/",
          "height": 88
        }
      },
      "source": [
        "data1 = read_json('/content/drive/My Drive/SIH_ML/AMAZON_FASHION.json')\n",
        "# total length of list, this number equals total number of products\n",
        "print(len(data1))\n",
        "\n",
        "# first row of the list\n",
        "print(data1[0])"
      ],
      "execution_count": 0,
      "outputs": [
        {
          "output_type": "stream",
          "text": [
            "883636it [00:08, 106316.55it/s]\n"
          ],
          "name": "stderr"
        },
        {
          "output_type": "stream",
          "text": [
            "883636\n",
            "{'overall': 5.0, 'verified': True, 'reviewTime': '10 20, 2014', 'reviewerID': 'A1D4G1SNUZWQOT', 'asin': '7106116521', 'reviewerName': 'Tracy', 'reviewText': 'Exactly what I needed.', 'summary': 'perfect replacements!!', 'unixReviewTime': 1413763200}\n"
          ],
          "name": "stdout"
        }
      ]
    },
    {
      "cell_type": "code",
      "metadata": {
        "id": "xD_UnwdHtdcV",
        "colab_type": "code",
        "outputId": "f5f0a937-0843-4823-b773-3bfc0ce17f33",
        "colab": {
          "base_uri": "https://localhost:8080/",
          "height": 51
        }
      },
      "source": [
        "# convert list into pandas dataframe\n",
        "df = pd.DataFrame.from_dict(data1)\n",
        "\n",
        "print(len(df))\n",
        "df.shape"
      ],
      "execution_count": 0,
      "outputs": [
        {
          "output_type": "stream",
          "text": [
            "883636\n"
          ],
          "name": "stdout"
        },
        {
          "output_type": "execute_result",
          "data": {
            "text/plain": [
              "(883636, 12)"
            ]
          },
          "metadata": {
            "tags": []
          },
          "execution_count": 45
        }
      ]
    },
    {
      "cell_type": "code",
      "metadata": {
        "id": "2q6An0-BtdcZ",
        "colab_type": "code",
        "outputId": "bfff7fd3-4726-4045-8fc5-f841022a7907",
        "colab": {
          "base_uri": "https://localhost:8080/",
          "height": 360
        }
      },
      "source": [
        "df.head()"
      ],
      "execution_count": 0,
      "outputs": [
        {
          "output_type": "execute_result",
          "data": {
            "text/html": [
              "<div>\n",
              "<style scoped>\n",
              "    .dataframe tbody tr th:only-of-type {\n",
              "        vertical-align: middle;\n",
              "    }\n",
              "\n",
              "    .dataframe tbody tr th {\n",
              "        vertical-align: top;\n",
              "    }\n",
              "\n",
              "    .dataframe thead th {\n",
              "        text-align: right;\n",
              "    }\n",
              "</style>\n",
              "<table border=\"1\" class=\"dataframe\">\n",
              "  <thead>\n",
              "    <tr style=\"text-align: right;\">\n",
              "      <th></th>\n",
              "      <th>overall</th>\n",
              "      <th>verified</th>\n",
              "      <th>reviewTime</th>\n",
              "      <th>reviewerID</th>\n",
              "      <th>asin</th>\n",
              "      <th>reviewerName</th>\n",
              "      <th>reviewText</th>\n",
              "      <th>summary</th>\n",
              "      <th>unixReviewTime</th>\n",
              "      <th>vote</th>\n",
              "      <th>style</th>\n",
              "      <th>image</th>\n",
              "    </tr>\n",
              "  </thead>\n",
              "  <tbody>\n",
              "    <tr>\n",
              "      <th>0</th>\n",
              "      <td>5.0</td>\n",
              "      <td>True</td>\n",
              "      <td>10 20, 2014</td>\n",
              "      <td>A1D4G1SNUZWQOT</td>\n",
              "      <td>7106116521</td>\n",
              "      <td>Tracy</td>\n",
              "      <td>Exactly what I needed.</td>\n",
              "      <td>perfect replacements!!</td>\n",
              "      <td>1413763200</td>\n",
              "      <td>NaN</td>\n",
              "      <td>NaN</td>\n",
              "      <td>NaN</td>\n",
              "    </tr>\n",
              "    <tr>\n",
              "      <th>1</th>\n",
              "      <td>2.0</td>\n",
              "      <td>True</td>\n",
              "      <td>09 28, 2014</td>\n",
              "      <td>A3DDWDH9PX2YX2</td>\n",
              "      <td>7106116521</td>\n",
              "      <td>Sonja Lau</td>\n",
              "      <td>I agree with the other review, the opening is ...</td>\n",
              "      <td>I agree with the other review, the opening is ...</td>\n",
              "      <td>1411862400</td>\n",
              "      <td>3</td>\n",
              "      <td>NaN</td>\n",
              "      <td>NaN</td>\n",
              "    </tr>\n",
              "    <tr>\n",
              "      <th>2</th>\n",
              "      <td>4.0</td>\n",
              "      <td>False</td>\n",
              "      <td>08 25, 2014</td>\n",
              "      <td>A2MWC41EW7XL15</td>\n",
              "      <td>7106116521</td>\n",
              "      <td>Kathleen</td>\n",
              "      <td>Love these... I am going to order another pack...</td>\n",
              "      <td>My New 'Friends' !!</td>\n",
              "      <td>1408924800</td>\n",
              "      <td>NaN</td>\n",
              "      <td>NaN</td>\n",
              "      <td>NaN</td>\n",
              "    </tr>\n",
              "    <tr>\n",
              "      <th>3</th>\n",
              "      <td>2.0</td>\n",
              "      <td>True</td>\n",
              "      <td>08 24, 2014</td>\n",
              "      <td>A2UH2QQ275NV45</td>\n",
              "      <td>7106116521</td>\n",
              "      <td>Jodi Stoner</td>\n",
              "      <td>too tiny an opening</td>\n",
              "      <td>Two Stars</td>\n",
              "      <td>1408838400</td>\n",
              "      <td>NaN</td>\n",
              "      <td>NaN</td>\n",
              "      <td>NaN</td>\n",
              "    </tr>\n",
              "    <tr>\n",
              "      <th>4</th>\n",
              "      <td>3.0</td>\n",
              "      <td>False</td>\n",
              "      <td>07 27, 2014</td>\n",
              "      <td>A89F3LQADZBS5</td>\n",
              "      <td>7106116521</td>\n",
              "      <td>Alexander D.</td>\n",
              "      <td>Okay</td>\n",
              "      <td>Three Stars</td>\n",
              "      <td>1406419200</td>\n",
              "      <td>NaN</td>\n",
              "      <td>NaN</td>\n",
              "      <td>NaN</td>\n",
              "    </tr>\n",
              "  </tbody>\n",
              "</table>\n",
              "</div>"
            ],
            "text/plain": [
              "   overall  verified   reviewTime  ... vote style image\n",
              "0      5.0      True  10 20, 2014  ...  NaN   NaN   NaN\n",
              "1      2.0      True  09 28, 2014  ...    3   NaN   NaN\n",
              "2      4.0     False  08 25, 2014  ...  NaN   NaN   NaN\n",
              "3      2.0      True  08 24, 2014  ...  NaN   NaN   NaN\n",
              "4      3.0     False  07 27, 2014  ...  NaN   NaN   NaN\n",
              "\n",
              "[5 rows x 12 columns]"
            ]
          },
          "metadata": {
            "tags": []
          },
          "execution_count": 46
        }
      ]
    },
    {
      "cell_type": "code",
      "metadata": {
        "id": "kdRWtzpatdcd",
        "colab_type": "code",
        "outputId": "5a6bc96f-25ff-41ef-f444-f9f38b032830",
        "colab": {
          "base_uri": "https://localhost:8080/",
          "height": 238
        }
      },
      "source": [
        "df1 = df[['overall', 'verified', 'reviewerID', 'reviewText', 'summary', 'unixReviewTime']]\n",
        "df1.head()"
      ],
      "execution_count": 0,
      "outputs": [
        {
          "output_type": "execute_result",
          "data": {
            "text/html": [
              "<div>\n",
              "<style scoped>\n",
              "    .dataframe tbody tr th:only-of-type {\n",
              "        vertical-align: middle;\n",
              "    }\n",
              "\n",
              "    .dataframe tbody tr th {\n",
              "        vertical-align: top;\n",
              "    }\n",
              "\n",
              "    .dataframe thead th {\n",
              "        text-align: right;\n",
              "    }\n",
              "</style>\n",
              "<table border=\"1\" class=\"dataframe\">\n",
              "  <thead>\n",
              "    <tr style=\"text-align: right;\">\n",
              "      <th></th>\n",
              "      <th>overall</th>\n",
              "      <th>verified</th>\n",
              "      <th>reviewerID</th>\n",
              "      <th>reviewText</th>\n",
              "      <th>summary</th>\n",
              "      <th>unixReviewTime</th>\n",
              "    </tr>\n",
              "  </thead>\n",
              "  <tbody>\n",
              "    <tr>\n",
              "      <th>0</th>\n",
              "      <td>5.0</td>\n",
              "      <td>True</td>\n",
              "      <td>A1D4G1SNUZWQOT</td>\n",
              "      <td>Exactly what I needed.</td>\n",
              "      <td>perfect replacements!!</td>\n",
              "      <td>1413763200</td>\n",
              "    </tr>\n",
              "    <tr>\n",
              "      <th>1</th>\n",
              "      <td>2.0</td>\n",
              "      <td>True</td>\n",
              "      <td>A3DDWDH9PX2YX2</td>\n",
              "      <td>I agree with the other review, the opening is ...</td>\n",
              "      <td>I agree with the other review, the opening is ...</td>\n",
              "      <td>1411862400</td>\n",
              "    </tr>\n",
              "    <tr>\n",
              "      <th>2</th>\n",
              "      <td>4.0</td>\n",
              "      <td>False</td>\n",
              "      <td>A2MWC41EW7XL15</td>\n",
              "      <td>Love these... I am going to order another pack...</td>\n",
              "      <td>My New 'Friends' !!</td>\n",
              "      <td>1408924800</td>\n",
              "    </tr>\n",
              "    <tr>\n",
              "      <th>3</th>\n",
              "      <td>2.0</td>\n",
              "      <td>True</td>\n",
              "      <td>A2UH2QQ275NV45</td>\n",
              "      <td>too tiny an opening</td>\n",
              "      <td>Two Stars</td>\n",
              "      <td>1408838400</td>\n",
              "    </tr>\n",
              "    <tr>\n",
              "      <th>4</th>\n",
              "      <td>3.0</td>\n",
              "      <td>False</td>\n",
              "      <td>A89F3LQADZBS5</td>\n",
              "      <td>Okay</td>\n",
              "      <td>Three Stars</td>\n",
              "      <td>1406419200</td>\n",
              "    </tr>\n",
              "  </tbody>\n",
              "</table>\n",
              "</div>"
            ],
            "text/plain": [
              "   overall  ...  unixReviewTime\n",
              "0      5.0  ...      1413763200\n",
              "1      2.0  ...      1411862400\n",
              "2      4.0  ...      1408924800\n",
              "3      2.0  ...      1408838400\n",
              "4      3.0  ...      1406419200\n",
              "\n",
              "[5 rows x 6 columns]"
            ]
          },
          "metadata": {
            "tags": []
          },
          "execution_count": 47
        }
      ]
    },
    {
      "cell_type": "code",
      "metadata": {
        "id": "itd9zgj3Ej_f",
        "colab_type": "code",
        "colab": {}
      },
      "source": [
        "df[\"reviewTime\"] = pd.to_datetime(df[\"reviewTime\"])"
      ],
      "execution_count": 0,
      "outputs": []
    },
    {
      "cell_type": "code",
      "metadata": {
        "id": "4_YNY7xbZYYw",
        "colab_type": "code",
        "outputId": "8432ec7a-d862-4514-936d-0da26308ab1c",
        "colab": {
          "base_uri": "https://localhost:8080/",
          "height": 360
        }
      },
      "source": [
        "df.head()"
      ],
      "execution_count": 0,
      "outputs": [
        {
          "output_type": "execute_result",
          "data": {
            "text/html": [
              "<div>\n",
              "<style scoped>\n",
              "    .dataframe tbody tr th:only-of-type {\n",
              "        vertical-align: middle;\n",
              "    }\n",
              "\n",
              "    .dataframe tbody tr th {\n",
              "        vertical-align: top;\n",
              "    }\n",
              "\n",
              "    .dataframe thead th {\n",
              "        text-align: right;\n",
              "    }\n",
              "</style>\n",
              "<table border=\"1\" class=\"dataframe\">\n",
              "  <thead>\n",
              "    <tr style=\"text-align: right;\">\n",
              "      <th></th>\n",
              "      <th>overall</th>\n",
              "      <th>verified</th>\n",
              "      <th>reviewTime</th>\n",
              "      <th>reviewerID</th>\n",
              "      <th>asin</th>\n",
              "      <th>reviewerName</th>\n",
              "      <th>reviewText</th>\n",
              "      <th>summary</th>\n",
              "      <th>unixReviewTime</th>\n",
              "      <th>vote</th>\n",
              "      <th>style</th>\n",
              "      <th>image</th>\n",
              "      <th>pos_neg</th>\n",
              "    </tr>\n",
              "  </thead>\n",
              "  <tbody>\n",
              "    <tr>\n",
              "      <th>0</th>\n",
              "      <td>5.0</td>\n",
              "      <td>True</td>\n",
              "      <td>2014-10-20</td>\n",
              "      <td>A1D4G1SNUZWQOT</td>\n",
              "      <td>7106116521</td>\n",
              "      <td>Tracy</td>\n",
              "      <td>Exactly what I needed.</td>\n",
              "      <td>perfect replacements!!</td>\n",
              "      <td>1413763200</td>\n",
              "      <td>NaN</td>\n",
              "      <td>NaN</td>\n",
              "      <td>NaN</td>\n",
              "      <td>1</td>\n",
              "    </tr>\n",
              "    <tr>\n",
              "      <th>1</th>\n",
              "      <td>2.0</td>\n",
              "      <td>True</td>\n",
              "      <td>2014-09-28</td>\n",
              "      <td>A3DDWDH9PX2YX2</td>\n",
              "      <td>7106116521</td>\n",
              "      <td>Sonja Lau</td>\n",
              "      <td>I agree with the other review, the opening is ...</td>\n",
              "      <td>I agree with the other review, the opening is ...</td>\n",
              "      <td>1411862400</td>\n",
              "      <td>3</td>\n",
              "      <td>NaN</td>\n",
              "      <td>NaN</td>\n",
              "      <td>0</td>\n",
              "    </tr>\n",
              "    <tr>\n",
              "      <th>2</th>\n",
              "      <td>4.0</td>\n",
              "      <td>False</td>\n",
              "      <td>2014-08-25</td>\n",
              "      <td>A2MWC41EW7XL15</td>\n",
              "      <td>7106116521</td>\n",
              "      <td>Kathleen</td>\n",
              "      <td>Love these... I am going to order another pack...</td>\n",
              "      <td>My New 'Friends' !!</td>\n",
              "      <td>1408924800</td>\n",
              "      <td>NaN</td>\n",
              "      <td>NaN</td>\n",
              "      <td>NaN</td>\n",
              "      <td>1</td>\n",
              "    </tr>\n",
              "    <tr>\n",
              "      <th>3</th>\n",
              "      <td>2.0</td>\n",
              "      <td>True</td>\n",
              "      <td>2014-08-24</td>\n",
              "      <td>A2UH2QQ275NV45</td>\n",
              "      <td>7106116521</td>\n",
              "      <td>Jodi Stoner</td>\n",
              "      <td>too tiny an opening</td>\n",
              "      <td>Two Stars</td>\n",
              "      <td>1408838400</td>\n",
              "      <td>NaN</td>\n",
              "      <td>NaN</td>\n",
              "      <td>NaN</td>\n",
              "      <td>0</td>\n",
              "    </tr>\n",
              "    <tr>\n",
              "      <th>4</th>\n",
              "      <td>3.0</td>\n",
              "      <td>False</td>\n",
              "      <td>2014-07-27</td>\n",
              "      <td>A89F3LQADZBS5</td>\n",
              "      <td>7106116521</td>\n",
              "      <td>Alexander D.</td>\n",
              "      <td>Okay</td>\n",
              "      <td>Three Stars</td>\n",
              "      <td>1406419200</td>\n",
              "      <td>NaN</td>\n",
              "      <td>NaN</td>\n",
              "      <td>NaN</td>\n",
              "      <td>0</td>\n",
              "    </tr>\n",
              "  </tbody>\n",
              "</table>\n",
              "</div>"
            ],
            "text/plain": [
              "   overall  verified reviewTime      reviewerID  ... vote style image pos_neg\n",
              "0      5.0      True 2014-10-20  A1D4G1SNUZWQOT  ...  NaN   NaN   NaN       1\n",
              "1      2.0      True 2014-09-28  A3DDWDH9PX2YX2  ...    3   NaN   NaN       0\n",
              "2      4.0     False 2014-08-25  A2MWC41EW7XL15  ...  NaN   NaN   NaN       1\n",
              "3      2.0      True 2014-08-24  A2UH2QQ275NV45  ...  NaN   NaN   NaN       0\n",
              "4      3.0     False 2014-07-27   A89F3LQADZBS5  ...  NaN   NaN   NaN       0\n",
              "\n",
              "[5 rows x 13 columns]"
            ]
          },
          "metadata": {
            "tags": []
          },
          "execution_count": 105
        }
      ]
    },
    {
      "cell_type": "code",
      "metadata": {
        "id": "JvxQOdRaHjr7",
        "colab_type": "code",
        "outputId": "a31e8658-fc9c-404e-e13f-6f328f4c1046",
        "colab": {
          "base_uri": "https://localhost:8080/",
          "height": 295
        }
      },
      "source": [
        "df['Year']=df['reviewTime'].dt.year\n",
        "Yearly=df.groupby(['Year'])['reviewerID'].count().reset_index()\n",
        "Yearly=Yearly.rename(columns={'reviewerID': 'Number_Of_Reviews'})\n",
        "Yearly.plot(x=\"Year\", y=\"Number_Of_Reviews\", kind=\"line\", title=\"NUMBER OF REVIEWS OVER THE YEARS\")\n",
        "plt.show()"
      ],
      "execution_count": 0,
      "outputs": [
        {
          "output_type": "display_data",
          "data": {
            "image/png": "[encoded data removed]",
            "text/plain": [
              "<Figure size 432x288 with 1 Axes>"
            ]
          },
          "metadata": {
            "tags": []
          }
        }
      ]
    },
    {
      "cell_type": "code",
      "metadata": {
        "id": "C3tiaF6LHm1N",
        "colab_type": "code",
        "outputId": "fb4d9cbd-d8d0-43f9-b4a1-66edbc6fcacc",
        "colab": {
          "base_uri": "https://localhost:8080/",
          "height": 340
        }
      },
      "source": [
        "df['Month']=df['reviewTime'].dt.month\n",
        "Monthly=df.groupby(['Month'])['reviewerID'].count().reset_index()\n",
        "Monthly['Month'] = Monthly['Month'].apply(lambda x: calendar.month_name[x])\n",
        "Monthly=Monthly.rename(columns={'reviewerID':'Number_of_Reviews'})\n",
        "Monthly.plot(x=\"Month\", y=\"Number_of_Reviews\", kind=\"bar\", title=\"NUMBER OF REVIEWS OVER THE MONTH\")\n",
        "plt.show()"
      ],
      "execution_count": 0,
      "outputs": [
        {
          "output_type": "display_data",
          "data": {
            "image/png": "[encoded data removed]",
            "text/plain": [
              "<Figure size 432x288 with 1 Axes>"
            ]
          },
          "metadata": {
            "tags": []
          }
        }
      ]
    },
    {
      "cell_type": "code",
      "metadata": {
        "id": "jNUih1glHxsT",
        "colab_type": "code",
        "outputId": "6616c815-adce-468a-ce81-6b36482d8681",
        "colab": {
          "base_uri": "https://localhost:8080/",
          "height": 265
        }
      },
      "source": [
        "summarised_results = df['overall'].value_counts()\n",
        "plt.bar(summarised_results.keys(), summarised_results.values)\n",
        "plt.show()"
      ],
      "execution_count": 0,
      "outputs": [
        {
          "output_type": "display_data",
          "data": {
            "image/png": "[encoded data removed]",
            "text/plain": [
              "<Figure size 432x288 with 1 Axes>"
            ]
          },
          "metadata": {
            "tags": []
          }
        }
      ]
    },
    {
      "cell_type": "code",
      "metadata": {
        "id": "xIh4C4n0aRD8",
        "colab_type": "code",
        "outputId": "1042cba5-e911-42fd-b28c-20200e70a8b9",
        "colab": {
          "base_uri": "https://localhost:8080/",
          "height": 34
        }
      },
      "source": [
        "products = df['overall'].groupby(df['asin']).count()\n",
        "products.head()\n",
        "print(\"Number of Unique Products in the category = {}\".format(products.count()))"
      ],
      "execution_count": 0,
      "outputs": [
        {
          "output_type": "stream",
          "text": [
            "Number of Unique Products in the category = 186189\n"
          ],
          "name": "stdout"
        }
      ]
    },
    {
      "cell_type": "code",
      "metadata": {
        "id": "UQUSqcB-amzx",
        "colab_type": "code",
        "outputId": "40384a01-f8c6-474d-cb86-bbd772d9346f",
        "colab": {
          "base_uri": "https://localhost:8080/",
          "height": 459
        }
      },
      "source": [
        "sorted_products = products.sort_values(ascending=False)\n",
        "print(\"Top 20 Reviewed Products:\\n\")\n",
        "print(sorted_products[:20], end='\\n\\n')\n",
        "print('Most Reviewed Product, B000V0IBDM - has {} reviews.'.format(products.max()))"
      ],
      "execution_count": 0,
      "outputs": [
        {
          "output_type": "stream",
          "text": [
            "Top 20 Reviewed Products:\n",
            "\n",
            "asin\n",
            "B000V0IBDM    4384\n",
            "B000KPIHQ4    4375\n",
            "B00I0VHS10    3889\n",
            "B00RLSCLJM    3638\n",
            "B000PHANNM    2572\n",
            "B000YFSR5G    2538\n",
            "B00201ER88    2206\n",
            "B00GXE331K    2027\n",
            "B000P0X15G    1928\n",
            "B00XT15P8E    1855\n",
            "B0017U1KBK    1828\n",
            "B005N7YWX6    1688\n",
            "B004HX6P1E    1680\n",
            "B000YFSR4W    1650\n",
            "B009RUKQ2G    1592\n",
            "B000JOOR7O    1588\n",
            "B00ZW3SCF0    1541\n",
            "B000GHRZN2    1418\n",
            "B000GHMRLW    1418\n",
            "B00XTM0ZPG    1408\n",
            "Name: overall, dtype: int64\n",
            "\n",
            "Most Reviewed Product, B000V0IBDM - has 4384 reviews.\n"
          ],
          "name": "stdout"
        }
      ]
    },
    {
      "cell_type": "code",
      "metadata": {
        "id": "c0M_WcO1iEoV",
        "colab_type": "code",
        "outputId": "596e9e82-be8f-4c8f-da7f-263cff605828",
        "colab": {
          "base_uri": "https://localhost:8080/",
          "height": 51
        }
      },
      "source": [
        "products.mode()"
      ],
      "execution_count": 0,
      "outputs": [
        {
          "output_type": "execute_result",
          "data": {
            "text/plain": [
              "0    1\n",
              "dtype: int64"
            ]
          },
          "metadata": {
            "tags": []
          },
          "execution_count": 52
        }
      ]
    },
    {
      "cell_type": "markdown",
      "metadata": {
        "id": "vlOcXFqYUMtp",
        "colab_type": "text"
      },
      "source": [
        "# Preprocessing:\n",
        "### Remove punctuations, stopwords, and lemmatize"
      ]
    },
    {
      "cell_type": "code",
      "metadata": {
        "id": "6GukdlQYUaTf",
        "colab_type": "code",
        "outputId": "45529b92-09fc-49d4-f5b3-ce3d4f0c5760",
        "colab": {
          "base_uri": "https://localhost:8080/",
          "height": 221
        }
      },
      "source": [
        "df1['reviewText'][:11]"
      ],
      "execution_count": 0,
      "outputs": [
        {
          "output_type": "execute_result",
          "data": {
            "text/plain": [
              "0                                Exactly what I needed.\n",
              "1     I agree with the other review, the opening is ...\n",
              "2     Love these... I am going to order another pack...\n",
              "3                                   too tiny an opening\n",
              "4                                                  Okay\n",
              "5                                Exactly what I wanted.\n",
              "6     These little plastic backs work great.  No mor...\n",
              "7     mother - in - law wanted it as a present for h...\n",
              "8     Item is of good quality. Looks great, too. But...\n",
              "9     I had used my last el-cheapo fake leather ciga...\n",
              "10    This brand has been around a long time and you...\n",
              "Name: reviewText, dtype: object"
            ]
          },
          "metadata": {
            "tags": []
          },
          "execution_count": 53
        }
      ]
    },
    {
      "cell_type": "code",
      "metadata": {
        "id": "4hbzlyzJUnxl",
        "colab_type": "code",
        "outputId": "4bd9bae3-e139-419b-c821-a2233f46cfa0",
        "colab": {
          "base_uri": "https://localhost:8080/",
          "height": 34
        }
      },
      "source": [
        "reviews = df1['reviewText']\n",
        "reviews.count()"
      ],
      "execution_count": 0,
      "outputs": [
        {
          "output_type": "execute_result",
          "data": {
            "text/plain": [
              "882403"
            ]
          },
          "metadata": {
            "tags": []
          },
          "execution_count": 54
        }
      ]
    },
    {
      "cell_type": "code",
      "metadata": {
        "id": "EqYbw1UEU4Vv",
        "colab_type": "code",
        "colab": {}
      },
      "source": [
        "stops = stopwords.words('english')"
      ],
      "execution_count": 0,
      "outputs": []
    },
    {
      "cell_type": "code",
      "metadata": {
        "id": "TtqwQNNfVVk2",
        "colab_type": "code",
        "colab": {}
      },
      "source": [
        "def tokenize(text):\n",
        "    tokenized = word_tokenize(text)\n",
        "    no_punc = []\n",
        "    for review in tokenized:\n",
        "        line = \"\".join(char for char in review if char not in string.punctuation)\n",
        "        no_punc.append(line)\n",
        "    tokens = lemmatize(no_punc)\n",
        "    return tokens\n",
        "\n",
        "\n",
        "def lemmatize(tokens):\n",
        "    lmtzr = WordNetLemmatizer()\n",
        "    lemma = [lmtzr.lemmatize(t) for t in tokens]\n",
        "    return lemma"
      ],
      "execution_count": 0,
      "outputs": []
    },
    {
      "cell_type": "code",
      "metadata": {
        "id": "mRsGzr1OVtF8",
        "colab_type": "code",
        "colab": {}
      },
      "source": [
        "reviews = reviews.apply(lambda x: tokenize(str(x)))"
      ],
      "execution_count": 0,
      "outputs": []
    },
    {
      "cell_type": "code",
      "metadata": {
        "id": "rYhKm-v7ZBvg",
        "colab_type": "code",
        "outputId": "ac3be2b3-bb99-4087-b943-d179662e4775",
        "colab": {
          "base_uri": "https://localhost:8080/",
          "height": 221
        }
      },
      "source": [
        "reviews[:11]"
      ],
      "execution_count": 0,
      "outputs": [
        {
          "output_type": "execute_result",
          "data": {
            "text/plain": [
              "0                          [Exactly, what, I, needed, ]\n",
              "1     [I, agree, with, the, other, review, , the, op...\n",
              "2     [Love, these, , I, am, going, to, order, anoth...\n",
              "3                              [too, tiny, an, opening]\n",
              "4                                                [Okay]\n",
              "5                          [Exactly, what, I, wanted, ]\n",
              "6     [These, little, plastic, back, work, great, , ...\n",
              "7     [mother, , in, , law, wanted, it, a, a, presen...\n",
              "8     [Item, is, of, good, quality, , Looks, great, ...\n",
              "9     [I, had, used, my, last, elcheapo, fake, leath...\n",
              "10    [This, brand, ha, been, around, a, long, time,...\n",
              "Name: reviewText, dtype: object"
            ]
          },
          "metadata": {
            "tags": []
          },
          "execution_count": 125
        }
      ]
    },
    {
      "cell_type": "markdown",
      "metadata": {
        "id": "d-fMxFKLXi0c",
        "colab_type": "text"
      },
      "source": [
        "# Modelling"
      ]
    },
    {
      "cell_type": "code",
      "metadata": {
        "id": "L5Q8UiIQXvRt",
        "colab_type": "code",
        "colab": {}
      },
      "source": [
        "reviewText = df.reviewText.apply(lambda x : str(x))\n",
        "cloud = wordcloud.WordCloud(background_color='gray', max_font_size=60, \n",
        "                            relative_scaling=1).generate(' '.join(reviewText))"
      ],
      "execution_count": 0,
      "outputs": []
    },
    {
      "cell_type": "code",
      "metadata": {
        "id": "5G7vo0fXYDea",
        "colab_type": "code",
        "outputId": "92b168d5-cfae-4c37-b9df-449854212fa7",
        "colab": {
          "base_uri": "https://localhost:8080/",
          "height": 595
        }
      },
      "source": [
        "fig = plt.figure(figsize=(20, 10))\n",
        "plt.axis('off')\n",
        "plt.imshow(cloud);"
      ],
      "execution_count": 0,
      "outputs": [
        {
          "output_type": "display_data",
          "data": {
            "image/png": "[encoded data removed]",
            "text/plain": [
              "<Figure size 1440x720 with 1 Axes>"
            ]
          },
          "metadata": {
            "tags": []
          }
        }
      ]
    },
    {
      "cell_type": "markdown",
      "metadata": {
        "id": "tia2W0jrYX_z",
        "colab_type": "text"
      },
      "source": [
        "## Insert pos_neg column for Sentiment modeling\n",
        "     Negative reviews:      1-3 Stars  = 0\n",
        "     Positive reviews:      4-5 Stars  = 1"
      ]
    },
    {
      "cell_type": "code",
      "metadata": {
        "id": "soVD2e1cYHdC",
        "colab_type": "code",
        "colab": {}
      },
      "source": [
        "df['pos_neg'] = [1 if x > 3 else 0 for x in df.overall]"
      ],
      "execution_count": 0,
      "outputs": []
    },
    {
      "cell_type": "code",
      "metadata": {
        "id": "Za80hng0Y18W",
        "colab_type": "code",
        "outputId": "924db8f7-e0ea-40df-8e8e-0eec5816cc3a",
        "colab": {
          "base_uri": "https://localhost:8080/",
          "height": 360
        }
      },
      "source": [
        "df.head()"
      ],
      "execution_count": 0,
      "outputs": [
        {
          "output_type": "execute_result",
          "data": {
            "text/html": [
              "<div>\n",
              "<style scoped>\n",
              "    .dataframe tbody tr th:only-of-type {\n",
              "        vertical-align: middle;\n",
              "    }\n",
              "\n",
              "    .dataframe tbody tr th {\n",
              "        vertical-align: top;\n",
              "    }\n",
              "\n",
              "    .dataframe thead th {\n",
              "        text-align: right;\n",
              "    }\n",
              "</style>\n",
              "<table border=\"1\" class=\"dataframe\">\n",
              "  <thead>\n",
              "    <tr style=\"text-align: right;\">\n",
              "      <th></th>\n",
              "      <th>overall</th>\n",
              "      <th>verified</th>\n",
              "      <th>reviewTime</th>\n",
              "      <th>reviewerID</th>\n",
              "      <th>asin</th>\n",
              "      <th>reviewerName</th>\n",
              "      <th>reviewText</th>\n",
              "      <th>summary</th>\n",
              "      <th>unixReviewTime</th>\n",
              "      <th>vote</th>\n",
              "      <th>style</th>\n",
              "      <th>image</th>\n",
              "      <th>pos_neg</th>\n",
              "    </tr>\n",
              "  </thead>\n",
              "  <tbody>\n",
              "    <tr>\n",
              "      <th>0</th>\n",
              "      <td>5.0</td>\n",
              "      <td>True</td>\n",
              "      <td>10 20, 2014</td>\n",
              "      <td>A1D4G1SNUZWQOT</td>\n",
              "      <td>7106116521</td>\n",
              "      <td>Tracy</td>\n",
              "      <td>Exactly what I needed.</td>\n",
              "      <td>perfect replacements!!</td>\n",
              "      <td>1413763200</td>\n",
              "      <td>NaN</td>\n",
              "      <td>NaN</td>\n",
              "      <td>NaN</td>\n",
              "      <td>1</td>\n",
              "    </tr>\n",
              "    <tr>\n",
              "      <th>1</th>\n",
              "      <td>2.0</td>\n",
              "      <td>True</td>\n",
              "      <td>09 28, 2014</td>\n",
              "      <td>A3DDWDH9PX2YX2</td>\n",
              "      <td>7106116521</td>\n",
              "      <td>Sonja Lau</td>\n",
              "      <td>I agree with the other review, the opening is ...</td>\n",
              "      <td>I agree with the other review, the opening is ...</td>\n",
              "      <td>1411862400</td>\n",
              "      <td>3</td>\n",
              "      <td>NaN</td>\n",
              "      <td>NaN</td>\n",
              "      <td>0</td>\n",
              "    </tr>\n",
              "    <tr>\n",
              "      <th>2</th>\n",
              "      <td>4.0</td>\n",
              "      <td>False</td>\n",
              "      <td>08 25, 2014</td>\n",
              "      <td>A2MWC41EW7XL15</td>\n",
              "      <td>7106116521</td>\n",
              "      <td>Kathleen</td>\n",
              "      <td>Love these... I am going to order another pack...</td>\n",
              "      <td>My New 'Friends' !!</td>\n",
              "      <td>1408924800</td>\n",
              "      <td>NaN</td>\n",
              "      <td>NaN</td>\n",
              "      <td>NaN</td>\n",
              "      <td>1</td>\n",
              "    </tr>\n",
              "    <tr>\n",
              "      <th>3</th>\n",
              "      <td>2.0</td>\n",
              "      <td>True</td>\n",
              "      <td>08 24, 2014</td>\n",
              "      <td>A2UH2QQ275NV45</td>\n",
              "      <td>7106116521</td>\n",
              "      <td>Jodi Stoner</td>\n",
              "      <td>too tiny an opening</td>\n",
              "      <td>Two Stars</td>\n",
              "      <td>1408838400</td>\n",
              "      <td>NaN</td>\n",
              "      <td>NaN</td>\n",
              "      <td>NaN</td>\n",
              "      <td>0</td>\n",
              "    </tr>\n",
              "    <tr>\n",
              "      <th>4</th>\n",
              "      <td>3.0</td>\n",
              "      <td>False</td>\n",
              "      <td>07 27, 2014</td>\n",
              "      <td>A89F3LQADZBS5</td>\n",
              "      <td>7106116521</td>\n",
              "      <td>Alexander D.</td>\n",
              "      <td>Okay</td>\n",
              "      <td>Three Stars</td>\n",
              "      <td>1406419200</td>\n",
              "      <td>NaN</td>\n",
              "      <td>NaN</td>\n",
              "      <td>NaN</td>\n",
              "      <td>0</td>\n",
              "    </tr>\n",
              "  </tbody>\n",
              "</table>\n",
              "</div>"
            ],
            "text/plain": [
              "   overall  verified   reviewTime      reviewerID  ... vote style image pos_neg\n",
              "0      5.0      True  10 20, 2014  A1D4G1SNUZWQOT  ...  NaN   NaN   NaN       1\n",
              "1      2.0      True  09 28, 2014  A3DDWDH9PX2YX2  ...    3   NaN   NaN       0\n",
              "2      4.0     False  08 25, 2014  A2MWC41EW7XL15  ...  NaN   NaN   NaN       1\n",
              "3      2.0      True  08 24, 2014  A2UH2QQ275NV45  ...  NaN   NaN   NaN       0\n",
              "4      3.0     False  07 27, 2014   A89F3LQADZBS5  ...  NaN   NaN   NaN       0\n",
              "\n",
              "[5 rows x 13 columns]"
            ]
          },
          "metadata": {
            "tags": []
          },
          "execution_count": 61
        }
      ]
    },
    {
      "cell_type": "code",
      "metadata": {
        "id": "ui_sCf-rbGnT",
        "colab_type": "code",
        "colab": {}
      },
      "source": [
        "x_train, x_test, y_train, y_test = train_test_split(reviewText, df.pos_neg, random_state=0)"
      ],
      "execution_count": 0,
      "outputs": []
    },
    {
      "cell_type": "code",
      "metadata": {
        "id": "_HfGE-Y8bhPX",
        "colab_type": "code",
        "outputId": "b4df3c04-44ec-4c15-a031-1df524051056",
        "colab": {
          "base_uri": "https://localhost:8080/",
          "height": 119
        }
      },
      "source": [
        "print(\"x_train shape: {}\".format(x_train.shape), end='\\n')\n",
        "print(\"y_train shape: {}\".format(y_train.shape), end='\\n\\n')\n",
        "print(\"x_test shape: {}\".format(x_test.shape), end='\\n')\n",
        "print(\"y_test shape: {}\".format(y_test.shape), end='\\n\\n')"
      ],
      "execution_count": 0,
      "outputs": [
        {
          "output_type": "stream",
          "text": [
            "x_train shape: (662727,)\n",
            "y_train shape: (662727,)\n",
            "\n",
            "x_test shape: (220909,)\n",
            "y_test shape: (220909,)\n",
            "\n"
          ],
          "name": "stdout"
        }
      ]
    },
    {
      "cell_type": "markdown",
      "metadata": {
        "id": "y5KAEGZ8cHtj",
        "colab_type": "text"
      },
      "source": [
        "# Logistic Regression\n",
        "### Count Vectorizer"
      ]
    },
    {
      "cell_type": "code",
      "metadata": {
        "id": "WxKOncmOb7_2",
        "colab_type": "code",
        "outputId": "809bc0dd-02c0-405d-b738-66ae1a79d4b3",
        "colab": {
          "base_uri": "https://localhost:8080/",
          "height": 68
        }
      },
      "source": [
        "# Vectorize X_train\n",
        "vectorizer = CountVectorizer(min_df=5).fit(x_train)\n",
        "# pickle.dump(vectorizer, open(\"vector.pickel\", \"wb\"))\n",
        "X_train = vectorizer.transform(x_train)\n",
        "print(\"X_train:\\n{}\".format(repr(X_train)))"
      ],
      "execution_count": 0,
      "outputs": [
        {
          "output_type": "stream",
          "text": [
            "X_train:\n",
            "<662727x21531 sparse matrix of type '<class 'numpy.int64'>'\n",
            "\twith 13909581 stored elements in Compressed Sparse Row format>\n"
          ],
          "name": "stdout"
        }
      ]
    },
    {
      "cell_type": "code",
      "metadata": {
        "id": "mKvWjpN_cug1",
        "colab_type": "code",
        "colab": {}
      },
      "source": [
        "pickle.dump(vectorizer, open(\"vector.pickel\", \"wb\"))"
      ],
      "execution_count": 0,
      "outputs": []
    },
    {
      "cell_type": "code",
      "metadata": {
        "id": "H1naOY5pcZWS",
        "colab_type": "code",
        "outputId": "2ebd151e-d092-4ef0-92a4-a96fb985c9c3",
        "colab": {
          "base_uri": "https://localhost:8080/",
          "height": 34
        }
      },
      "source": [
        "feature_names = vectorizer.get_feature_names()\n",
        "print(\"Number of features: {}\".format(len(feature_names)))"
      ],
      "execution_count": 0,
      "outputs": [
        {
          "output_type": "stream",
          "text": [
            "Number of features: 21531\n"
          ],
          "name": "stdout"
        }
      ]
    },
    {
      "cell_type": "markdown",
      "metadata": {
        "id": "3VNHHdgKcnYR",
        "colab_type": "text"
      },
      "source": [
        "### Logistic Regression on training data"
      ]
    },
    {
      "cell_type": "code",
      "metadata": {
        "id": "_BFLOaLUckQg",
        "colab_type": "code",
        "outputId": "05e64f1a-fe66-464c-b576-3a2ebe7b15e5",
        "colab": {
          "base_uri": "https://localhost:8080/",
          "height": 717
        }
      },
      "source": [
        "scores = cross_val_score(LogisticRegression(), X_train, y_train, cv=5)"
      ],
      "execution_count": 0,
      "outputs": [
        {
          "output_type": "stream",
          "text": [
            "/usr/local/lib/python3.6/dist-packages/sklearn/linear_model/_logistic.py:940: ConvergenceWarning: lbfgs failed to converge (status=1):\n",
            "STOP: TOTAL NO. of ITERATIONS REACHED LIMIT.\n",
            "\n",
            "Increase the number of iterations (max_iter) or scale the data as shown in:\n",
            "    https://scikit-learn.org/stable/modules/preprocessing.html\n",
            "Please also refer to the documentation for alternative solver options:\n",
            "    https://scikit-learn.org/stable/modules/linear_model.html#logistic-regression\n",
            "  extra_warning_msg=_LOGISTIC_SOLVER_CONVERGENCE_MSG)\n",
            "/usr/local/lib/python3.6/dist-packages/sklearn/linear_model/_logistic.py:940: ConvergenceWarning: lbfgs failed to converge (status=1):\n",
            "STOP: TOTAL NO. of ITERATIONS REACHED LIMIT.\n",
            "\n",
            "Increase the number of iterations (max_iter) or scale the data as shown in:\n",
            "    https://scikit-learn.org/stable/modules/preprocessing.html\n",
            "Please also refer to the documentation for alternative solver options:\n",
            "    https://scikit-learn.org/stable/modules/linear_model.html#logistic-regression\n",
            "  extra_warning_msg=_LOGISTIC_SOLVER_CONVERGENCE_MSG)\n",
            "/usr/local/lib/python3.6/dist-packages/sklearn/linear_model/_logistic.py:940: ConvergenceWarning: lbfgs failed to converge (status=1):\n",
            "STOP: TOTAL NO. of ITERATIONS REACHED LIMIT.\n",
            "\n",
            "Increase the number of iterations (max_iter) or scale the data as shown in:\n",
            "    https://scikit-learn.org/stable/modules/preprocessing.html\n",
            "Please also refer to the documentation for alternative solver options:\n",
            "    https://scikit-learn.org/stable/modules/linear_model.html#logistic-regression\n",
            "  extra_warning_msg=_LOGISTIC_SOLVER_CONVERGENCE_MSG)\n",
            "/usr/local/lib/python3.6/dist-packages/sklearn/linear_model/_logistic.py:940: ConvergenceWarning: lbfgs failed to converge (status=1):\n",
            "STOP: TOTAL NO. of ITERATIONS REACHED LIMIT.\n",
            "\n",
            "Increase the number of iterations (max_iter) or scale the data as shown in:\n",
            "    https://scikit-learn.org/stable/modules/preprocessing.html\n",
            "Please also refer to the documentation for alternative solver options:\n",
            "    https://scikit-learn.org/stable/modules/linear_model.html#logistic-regression\n",
            "  extra_warning_msg=_LOGISTIC_SOLVER_CONVERGENCE_MSG)\n",
            "/usr/local/lib/python3.6/dist-packages/sklearn/linear_model/_logistic.py:940: ConvergenceWarning: lbfgs failed to converge (status=1):\n",
            "STOP: TOTAL NO. of ITERATIONS REACHED LIMIT.\n",
            "\n",
            "Increase the number of iterations (max_iter) or scale the data as shown in:\n",
            "    https://scikit-learn.org/stable/modules/preprocessing.html\n",
            "Please also refer to the documentation for alternative solver options:\n",
            "    https://scikit-learn.org/stable/modules/linear_model.html#logistic-regression\n",
            "  extra_warning_msg=_LOGISTIC_SOLVER_CONVERGENCE_MSG)\n"
          ],
          "name": "stderr"
        }
      ]
    },
    {
      "cell_type": "code",
      "metadata": {
        "id": "xEuz7QGWcyoP",
        "colab_type": "code",
        "outputId": "3db1d449-43a2-48b3-eda9-9a3012e92d8e",
        "colab": {
          "base_uri": "https://localhost:8080/",
          "height": 34
        }
      },
      "source": [
        "print(\"Mean cross-validation accuracy: {:.3f}\".format(np.mean(scores)))"
      ],
      "execution_count": 0,
      "outputs": [
        {
          "output_type": "stream",
          "text": [
            "Mean cross-validation accuracy: 0.888\n"
          ],
          "name": "stdout"
        }
      ]
    },
    {
      "cell_type": "code",
      "metadata": {
        "id": "cFM4WtVxdQxf",
        "colab_type": "code",
        "outputId": "de4b53ff-d38a-4b62-fbc5-3210d9486ef0",
        "colab": {
          "base_uri": "https://localhost:8080/",
          "height": 173
        }
      },
      "source": [
        "logreg = LogisticRegression(C=0.1).fit(X_train, y_train)\n",
        "\n",
        "X_test = vectorizer.transform(x_test)\n",
        "\n",
        "log_y_pred = logreg.predict(X_test)"
      ],
      "execution_count": 0,
      "outputs": [
        {
          "output_type": "stream",
          "text": [
            "/usr/local/lib/python3.6/dist-packages/sklearn/linear_model/_logistic.py:940: ConvergenceWarning: lbfgs failed to converge (status=1):\n",
            "STOP: TOTAL NO. of ITERATIONS REACHED LIMIT.\n",
            "\n",
            "Increase the number of iterations (max_iter) or scale the data as shown in:\n",
            "    https://scikit-learn.org/stable/modules/preprocessing.html\n",
            "Please also refer to the documentation for alternative solver options:\n",
            "    https://scikit-learn.org/stable/modules/linear_model.html#logistic-regression\n",
            "  extra_warning_msg=_LOGISTIC_SOLVER_CONVERGENCE_MSG)\n"
          ],
          "name": "stderr"
        }
      ]
    },
    {
      "cell_type": "code",
      "metadata": {
        "id": "LS--TF5pdw8G",
        "colab_type": "code",
        "outputId": "eb529eb5-18d3-41b1-8b44-fdc0c22b04ab",
        "colab": {
          "base_uri": "https://localhost:8080/",
          "height": 34
        }
      },
      "source": [
        "logreg_score = accuracy_score(y_test, log_y_pred)\n",
        "print(\"Accuracy:   {:.3f}\".format(logreg_score))"
      ],
      "execution_count": 0,
      "outputs": [
        {
          "output_type": "stream",
          "text": [
            "Accuracy:   0.886\n"
          ],
          "name": "stdout"
        }
      ]
    },
    {
      "cell_type": "code",
      "metadata": {
        "id": "FvrqY5sJd7mF",
        "colab_type": "code",
        "outputId": "df1966cc-e09c-45cd-a865-be753ddb98a4",
        "colab": {
          "base_uri": "https://localhost:8080/",
          "height": 51
        }
      },
      "source": [
        "print(\"Training set score: {:.3f}\".format(logreg.score(X_train, y_train)))\n",
        "print(\"Test set score: {:.3f}\".format(logreg.score(X_test, y_test)))"
      ],
      "execution_count": 0,
      "outputs": [
        {
          "output_type": "stream",
          "text": [
            "Training set score: 0.890\n",
            "Test set score: 0.886\n"
          ],
          "name": "stdout"
        }
      ]
    },
    {
      "cell_type": "code",
      "metadata": {
        "id": "3N0b8Ta8d_bF",
        "colab_type": "code",
        "outputId": "174e7d2f-038a-487f-ed20-9fcbef967871",
        "colab": {
          "base_uri": "https://localhost:8080/",
          "height": 136
        }
      },
      "source": [
        "log_cfm = confusion_matrix(y_test, log_y_pred)\n",
        "print(\"Confusion matrix:\")\n",
        "print(log_cfm, end='\\n\\n')\n",
        "print('-'*15)\n",
        "print(np.array([['TN', 'FP'],[ 'FN' , 'TP']]))"
      ],
      "execution_count": 0,
      "outputs": [
        {
          "output_type": "stream",
          "text": [
            "Confusion matrix:\n",
            "[[ 52057  15340]\n",
            " [  9868 143644]]\n",
            "\n",
            "---------------\n",
            "[['TN' 'FP']\n",
            " ['FN' 'TP']]\n"
          ],
          "name": "stdout"
        }
      ]
    },
    {
      "cell_type": "code",
      "metadata": {
        "id": "7RqFWR64eHdG",
        "colab_type": "code",
        "colab": {}
      },
      "source": [
        "# plt.imshow(log_cfm, interpolation='nearest')\n",
        "# for i, j in itertools.product(range(log_cfm.shape[0]), range(log_cfm.shape[1])):\n",
        "#     plt.text(j, i, log_cfm[i, j],\n",
        "#              horizontalalignment=\"center\",\n",
        "#              color=\"white\")\n",
        "\n",
        "# plt.ylabel('True label (Recall)')\n",
        "# plt.xlabel('Predicted label (Precision)')\n",
        "# plt.title('Logistic Reg | Confusion Matrix')\n",
        "# plt.colorbar();"
      ],
      "execution_count": 0,
      "outputs": []
    },
    {
      "cell_type": "code",
      "metadata": {
        "id": "PF5P69_SeryJ",
        "colab_type": "code",
        "outputId": "07f1de7e-4b1d-4195-d7af-44ff1869d6d8",
        "colab": {
          "base_uri": "https://localhost:8080/",
          "height": 281
        }
      },
      "source": [
        "plt.ylabel('True label (Recall)')\n",
        "plt.xlabel('Predicted label (Precision)')\n",
        "plt.title('Logistic Reg | Confusion Matrix')\n",
        "sns.heatmap(log_cfm, annot=True, fmt=\"d\")\n",
        "plt.show()"
      ],
      "execution_count": 0,
      "outputs": [
        {
          "output_type": "display_data",
          "data": {
            "image/png": "[encoded data removed]",
            "text/plain": [
              "<Figure size 432x288 with 2 Axes>"
            ]
          },
          "metadata": {
            "tags": []
          }
        }
      ]
    },
    {
      "cell_type": "code",
      "metadata": {
        "id": "8BhcrMTtfMKX",
        "colab_type": "code",
        "outputId": "f310bed4-f4f4-4a60-ac77-2e1e1035f624",
        "colab": {
          "base_uri": "https://localhost:8080/",
          "height": 34
        }
      },
      "source": [
        "log_f1 = f1_score(y_test, log_y_pred)\n",
        "print(\"Logistic Reg - F1 score: {:.3f}\".format(log_f1))"
      ],
      "execution_count": 0,
      "outputs": [
        {
          "output_type": "stream",
          "text": [
            "Logistic Reg - F1 score: 0.919\n"
          ],
          "name": "stdout"
        }
      ]
    },
    {
      "cell_type": "code",
      "metadata": {
        "id": "8KqMPaEXjFvH",
        "colab_type": "code",
        "outputId": "041a3ccf-e1c0-4638-bbc8-9fd2690160a1",
        "colab": {
          "base_uri": "https://localhost:8080/",
          "height": 34
        }
      },
      "source": [
        "# save the model to disk\n",
        "filename = 'finalized_LR_model.sav'\n",
        "joblib.dump(logreg, filename)"
      ],
      "execution_count": 0,
      "outputs": [
        {
          "output_type": "execute_result",
          "data": {
            "text/plain": [
              "['finalized_LR_model.sav']"
            ]
          },
          "metadata": {
            "tags": []
          },
          "execution_count": 79
        }
      ]
    },
    {
      "cell_type": "code",
      "metadata": {
        "id": "JYPnvd9BXj8c",
        "colab_type": "code",
        "outputId": "9cb48553-d9d4-417e-a110-4b05f9b29be5",
        "colab": {
          "base_uri": "https://localhost:8080/",
          "height": 34
        }
      },
      "source": [
        "loaded_model = joblib.load(filename)\n",
        "result = loaded_model.score(X_test, y_test)\n",
        "print(result)"
      ],
      "execution_count": 0,
      "outputs": [
        {
          "output_type": "stream",
          "text": [
            "0.8858896649751707\n"
          ],
          "name": "stdout"
        }
      ]
    },
    {
      "cell_type": "code",
      "metadata": {
        "id": "kOpLg1PjnG4Y",
        "colab_type": "code",
        "outputId": "8c718306-3004-482c-d58b-31efc9ce20b6",
        "colab": {
          "base_uri": "https://localhost:8080/",
          "height": 34
        }
      },
      "source": [
        "log_y_pred"
      ],
      "execution_count": 0,
      "outputs": [
        {
          "output_type": "execute_result",
          "data": {
            "text/plain": [
              "array([1, 1, 1, ..., 0, 1, 1])"
            ]
          },
          "metadata": {
            "tags": []
          },
          "execution_count": 84
        }
      ]
    },
    {
      "cell_type": "code",
      "metadata": {
        "id": "om2kVKtNw_t7",
        "colab_type": "code",
        "outputId": "14cd7caa-a3c7-4982-f8b1-ccd3a5e62998",
        "colab": {
          "base_uri": "https://localhost:8080/",
          "height": 221
        }
      },
      "source": [
        "x_test"
      ],
      "execution_count": 0,
      "outputs": [
        {
          "output_type": "execute_result",
          "data": {
            "text/plain": [
              "293767    Great fit, no sliding down during workout and ...\n",
              "855678    Cute it is short would of liked the ties to be...\n",
              "621401    I made a mistake when ordering, so it's my own...\n",
              "343604    Did not stick very well. It's maybe best for A...\n",
              "68207                            My little girl loves these\n",
              "                                ...                        \n",
              "693383    First I bought a couple, and it was so good so...\n",
              "253190    These studs showed up broken and with 2 crysta...\n",
              "408446    Sizes are tricky, whatever you expect your siz...\n",
              "783782    They are the cutest things ever. My son and hi...\n",
              "128299    I really like this jacket. It's light weight y...\n",
              "Name: reviewText, Length: 220909, dtype: object"
            ]
          },
          "metadata": {
            "tags": []
          },
          "execution_count": 86
        }
      ]
    },
    {
      "cell_type": "code",
      "metadata": {
        "id": "IBUghXuq9lHK",
        "colab_type": "code",
        "outputId": "236bb308-ddd6-4a63-b32c-1d038f727299",
        "colab": {
          "base_uri": "https://localhost:8080/",
          "height": 147
        }
      },
      "source": [
        "log_y_pred_df = pd.Series(log_y_pred)\n",
        "y_test_results = y_test.value_counts()\n",
        "classified_results = log_y_pred_df.value_counts()\n",
        "\n",
        "\n",
        "plt.subplot(221)\n",
        "plt.bar(classified_results.keys(), classified_results.values)\n",
        "plt.subplot(222)\n",
        "plt.bar(y_test_results.keys(), y_test_results.values)\n",
        "# sns.barplot()\n",
        "plt.show()"
      ],
      "execution_count": 0,
      "outputs": [
        {
          "output_type": "display_data",
          "data": {
            "image/png": "[encoded data removed]",
            "text/plain": [
              "<Figure size 432x288 with 2 Axes>"
            ]
          },
          "metadata": {
            "tags": []
          }
        }
      ]
    },
    {
      "cell_type": "code",
      "metadata": {
        "id": "FRppuQ7CADLm",
        "colab_type": "code",
        "outputId": "75eccc09-642d-4e55-b4b9-a3e736dc2c7a",
        "colab": {
          "base_uri": "https://localhost:8080/",
          "height": 221
        }
      },
      "source": [
        "y_test"
      ],
      "execution_count": 0,
      "outputs": [
        {
          "output_type": "execute_result",
          "data": {
            "text/plain": [
              "293767    1\n",
              "855678    1\n",
              "621401    0\n",
              "343604    0\n",
              "68207     1\n",
              "         ..\n",
              "693383    1\n",
              "253190    0\n",
              "408446    0\n",
              "783782    1\n",
              "128299    1\n",
              "Name: pos_neg, Length: 220909, dtype: int64"
            ]
          },
          "metadata": {
            "tags": []
          },
          "execution_count": 126
        }
      ]
    },
    {
      "cell_type": "code",
      "metadata": {
        "id": "ujaRjY9KDKql",
        "colab_type": "code",
        "outputId": "862087fe-3aa7-4ecd-96f2-0208ea2c977a",
        "colab": {
          "base_uri": "https://localhost:8080/",
          "height": 221
        }
      },
      "source": [
        "df.pos_neg"
      ],
      "execution_count": 0,
      "outputs": [
        {
          "output_type": "execute_result",
          "data": {
            "text/plain": [
              "0         1\n",
              "1         0\n",
              "2         1\n",
              "3         0\n",
              "4         0\n",
              "         ..\n",
              "883631    1\n",
              "883632    1\n",
              "883633    0\n",
              "883634    0\n",
              "883635    1\n",
              "Name: pos_neg, Length: 883636, dtype: int64"
            ]
          },
          "metadata": {
            "tags": []
          },
          "execution_count": 127
        }
      ]
    },
    {
      "cell_type": "code",
      "metadata": {
        "id": "7IPP9YK0FQB-",
        "colab_type": "code",
        "colab": {}
      },
      "source": [
        "stops = stopwords.words('english')\n",
        "\n",
        "def tokenize(text):\n",
        "    tokenized = word_tokenize(text)\n",
        "    no_punc = []\n",
        "    for review in tokenized:\n",
        "        line = \"\".join(char for char in review if char not in string.punctuation)\n",
        "        no_punc.append(line)\n",
        "    tokens = lemmatize(no_punc)\n",
        "    return tokens\n",
        "\n",
        "\n",
        "def lemmatize(tokens):\n",
        "    lmtzr = WordNetLemmatizer()\n",
        "    lemma = [lmtzr.lemmatize(t) for t in tokens]\n",
        "    return lemma\n",
        "\n",
        "\n",
        "reviews = reviews.apply(lambda x: tokenize(str(x)))\n",
        "df['pos_neg'] = [1 if x > 3 else 0 for x in df.overall]\n",
        "X_test = vectorizer.transform(reviewsText)\n",
        "y_test = df.pos_neg\n",
        "\n",
        "loaded_model = joblib.load(filename)\n",
        "log_y_pred = loaded_model.predict(X_test)\n",
        "result = loaded_model.score(X_test, y_test)\n",
        "\n",
        "print(result)\n"
      ],
      "execution_count": 0,
      "outputs": []
    },
    {
      "cell_type": "code",
      "metadata": {
        "id": "ORZz7z9bX6Lf",
        "colab_type": "code",
        "colab": {}
      },
      "source": [
        "!pip freeze > requirements.txt\n"
      ],
      "execution_count": 0,
      "outputs": []
    },
    {
      "cell_type": "code",
      "metadata": {
        "id": "rguawsGeX83O",
        "colab_type": "code",
        "colab": {}
      },
      "source": [
        ""
      ],
      "execution_count": 0,
      "outputs": []
    }
  ]
}